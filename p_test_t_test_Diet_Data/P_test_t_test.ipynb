{
 "cells": [
  {
   "cell_type": "code",
   "execution_count": 1,
   "metadata": {},
   "outputs": [
    {
     "data": {
      "text/html": [
       "<div>\n",
       "<style scoped>\n",
       "    .dataframe tbody tr th:only-of-type {\n",
       "        vertical-align: middle;\n",
       "    }\n",
       "\n",
       "    .dataframe tbody tr th {\n",
       "        vertical-align: top;\n",
       "    }\n",
       "\n",
       "    .dataframe thead th {\n",
       "        text-align: right;\n",
       "    }\n",
       "</style>\n",
       "<table border=\"1\" class=\"dataframe\">\n",
       "  <thead>\n",
       "    <tr style=\"text-align: right;\">\n",
       "      <th></th>\n",
       "      <th>Person</th>\n",
       "      <th>gender</th>\n",
       "      <th>Age</th>\n",
       "      <th>Height</th>\n",
       "      <th>pre.weight</th>\n",
       "      <th>Diet</th>\n",
       "      <th>weight6weeks</th>\n",
       "    </tr>\n",
       "  </thead>\n",
       "  <tbody>\n",
       "    <tr>\n",
       "      <td>0</td>\n",
       "      <td>25</td>\n",
       "      <td></td>\n",
       "      <td>41</td>\n",
       "      <td>171</td>\n",
       "      <td>60</td>\n",
       "      <td>2</td>\n",
       "      <td>60.0</td>\n",
       "    </tr>\n",
       "    <tr>\n",
       "      <td>1</td>\n",
       "      <td>26</td>\n",
       "      <td></td>\n",
       "      <td>32</td>\n",
       "      <td>174</td>\n",
       "      <td>103</td>\n",
       "      <td>2</td>\n",
       "      <td>103.0</td>\n",
       "    </tr>\n",
       "    <tr>\n",
       "      <td>2</td>\n",
       "      <td>1</td>\n",
       "      <td>0</td>\n",
       "      <td>22</td>\n",
       "      <td>159</td>\n",
       "      <td>58</td>\n",
       "      <td>1</td>\n",
       "      <td>54.2</td>\n",
       "    </tr>\n",
       "    <tr>\n",
       "      <td>3</td>\n",
       "      <td>2</td>\n",
       "      <td>0</td>\n",
       "      <td>46</td>\n",
       "      <td>192</td>\n",
       "      <td>60</td>\n",
       "      <td>1</td>\n",
       "      <td>54.0</td>\n",
       "    </tr>\n",
       "    <tr>\n",
       "      <td>4</td>\n",
       "      <td>3</td>\n",
       "      <td>0</td>\n",
       "      <td>55</td>\n",
       "      <td>170</td>\n",
       "      <td>64</td>\n",
       "      <td>1</td>\n",
       "      <td>63.3</td>\n",
       "    </tr>\n",
       "  </tbody>\n",
       "</table>\n",
       "</div>"
      ],
      "text/plain": [
       "   Person gender  Age  Height  pre.weight  Diet  weight6weeks\n",
       "0      25          41     171          60     2          60.0\n",
       "1      26          32     174         103     2         103.0\n",
       "2       1      0   22     159          58     1          54.2\n",
       "3       2      0   46     192          60     1          54.0\n",
       "4       3      0   55     170          64     1          63.3"
      ]
     },
     "execution_count": 1,
     "metadata": {},
     "output_type": "execute_result"
    }
   ],
   "source": [
    "\"\"\"Importing the libraries\"\"\"\n",
    "import numpy as np\n",
    "import pandas as pd\n",
    "import researchpy as rp\n",
    "import matplotlib.pyplot as plt\n",
    "import seaborn as sns\n",
    "import matplotlib.pyplot as plt\n",
    "import matplotlib.pyplot as plt; plt.rcdefaults()\n",
    "import csv\n",
    "from scipy.stats import ttest_ind #to run the t-test for independent samples\n",
    "from scipy import stats\n",
    "from scipy.stats import spearmanr\n",
    "import scipy.stats as stats\n",
    "\n",
    "diet_data = pd.read_csv('C:/Users/shams/OneDrive/Documents/Julia_intro_to_stat_analysos/Diet.csv')\n",
    "diet_data.head()\n"
   ]
  },
  {
   "cell_type": "code",
   "execution_count": 2,
   "metadata": {},
   "outputs": [
    {
     "data": {
      "text/html": [
       "<div>\n",
       "<style scoped>\n",
       "    .dataframe tbody tr th:only-of-type {\n",
       "        vertical-align: middle;\n",
       "    }\n",
       "\n",
       "    .dataframe tbody tr th {\n",
       "        vertical-align: top;\n",
       "    }\n",
       "\n",
       "    .dataframe thead th {\n",
       "        text-align: right;\n",
       "    }\n",
       "</style>\n",
       "<table border=\"1\" class=\"dataframe\">\n",
       "  <thead>\n",
       "    <tr style=\"text-align: right;\">\n",
       "      <th></th>\n",
       "      <th>Person</th>\n",
       "      <th>gender</th>\n",
       "      <th>Age</th>\n",
       "      <th>Height</th>\n",
       "      <th>pre.weight</th>\n",
       "      <th>Diet</th>\n",
       "      <th>weight6weeks</th>\n",
       "      <th>weight_loss</th>\n",
       "    </tr>\n",
       "  </thead>\n",
       "  <tbody>\n",
       "    <tr>\n",
       "      <td>0</td>\n",
       "      <td>25</td>\n",
       "      <td></td>\n",
       "      <td>41</td>\n",
       "      <td>171</td>\n",
       "      <td>60</td>\n",
       "      <td>2</td>\n",
       "      <td>60.0</td>\n",
       "      <td>0.0</td>\n",
       "    </tr>\n",
       "    <tr>\n",
       "      <td>1</td>\n",
       "      <td>26</td>\n",
       "      <td></td>\n",
       "      <td>32</td>\n",
       "      <td>174</td>\n",
       "      <td>103</td>\n",
       "      <td>2</td>\n",
       "      <td>103.0</td>\n",
       "      <td>0.0</td>\n",
       "    </tr>\n",
       "    <tr>\n",
       "      <td>2</td>\n",
       "      <td>1</td>\n",
       "      <td>0</td>\n",
       "      <td>22</td>\n",
       "      <td>159</td>\n",
       "      <td>58</td>\n",
       "      <td>1</td>\n",
       "      <td>54.2</td>\n",
       "      <td>3.8</td>\n",
       "    </tr>\n",
       "    <tr>\n",
       "      <td>3</td>\n",
       "      <td>2</td>\n",
       "      <td>0</td>\n",
       "      <td>46</td>\n",
       "      <td>192</td>\n",
       "      <td>60</td>\n",
       "      <td>1</td>\n",
       "      <td>54.0</td>\n",
       "      <td>6.0</td>\n",
       "    </tr>\n",
       "    <tr>\n",
       "      <td>4</td>\n",
       "      <td>3</td>\n",
       "      <td>0</td>\n",
       "      <td>55</td>\n",
       "      <td>170</td>\n",
       "      <td>64</td>\n",
       "      <td>1</td>\n",
       "      <td>63.3</td>\n",
       "      <td>0.7</td>\n",
       "    </tr>\n",
       "  </tbody>\n",
       "</table>\n",
       "</div>"
      ],
      "text/plain": [
       "   Person gender  Age  Height  pre.weight  Diet  weight6weeks  weight_loss\n",
       "0      25          41     171          60     2          60.0          0.0\n",
       "1      26          32     174         103     2         103.0          0.0\n",
       "2       1      0   22     159          58     1          54.2          3.8\n",
       "3       2      0   46     192          60     1          54.0          6.0\n",
       "4       3      0   55     170          64     1          63.3          0.7"
      ]
     },
     "execution_count": 2,
     "metadata": {},
     "output_type": "execute_result"
    }
   ],
   "source": [
    "'''adding an extra column which calculates weightloss '''\n",
    "\n",
    "weightloss_diet = diet_data.assign(weight_loss = diet_data['pre.weight'] -\n",
    "                                   diet_data['weight6weeks'])\n",
    "weightloss_diet.head()"
   ]
  },
  {
   "cell_type": "code",
   "execution_count": 3,
   "metadata": {},
   "outputs": [
    {
     "data": {
      "image/png": "[encoded data removed]",
      "text/plain": [
       "<Figure size 432x288 with 1 Axes>"
      ]
     },
     "metadata": {
      "needs_background": "light"
     },
     "output_type": "display_data"
    }
   ],
   "source": [
    "\"\"\"By using the graphical tools, can you illustrate whether the weight loss is\n",
    "different among the different levels of diet? (Hint: weight loss can be calculated\n",
    "as “pre.weight”-“weight6weeks”)\"\"\"\n",
    "data_boxplot = sns.boxplot(x= weightloss_diet['Diet'], \n",
    "                           y = weightloss_diet['weight_loss'])\n"
   ]
  },
  {
   "cell_type": "code",
   "execution_count": 9,
   "metadata": {},
   "outputs": [
    {
     "name": "stdout",
     "output_type": "stream",
     "text": [
      "              Person       Age    Height  pre.weight      Diet  weight6weeks  \\\n",
      "Person      1.000000 -0.101773 -0.033696    0.296399  0.942237      0.196728   \n",
      "Age        -0.101773  1.000000  0.080393   -0.006265 -0.127707      0.010472   \n",
      "Height     -0.033696  0.080393  1.000000    0.154381 -0.118241      0.183998   \n",
      "pre.weight  0.296399 -0.006265  0.154381    1.000000  0.039234      0.958449   \n",
      "Diet        0.942237 -0.127707 -0.118241    0.039234  1.000000     -0.048050   \n",
      "\n",
      "            weight_loss  \n",
      "Person         0.325260  \n",
      "Age           -0.058049  \n",
      "Height        -0.115765  \n",
      "pre.weight     0.066495  \n",
      "Diet           0.302208  \n"
     ]
    }
   ],
   "source": [
    "\"\"\"From the boxplot we can see that the means of Diet1 and Diet level2 are quite similar while the weight loss is\n",
    "significant for the group3 diet. We can also see some outliers for the Diet group 1.\"\"\"\n",
    "correlation = weightloss_diet.corr()\n",
    "print(correlation.head())"
   ]
  },
  {
   "cell_type": "code",
   "execution_count": 21,
   "metadata": {},
   "outputs": [
    {
     "data": {
      "text/plain": [
       "<seaborn.axisgrid.JointGrid at 0x1dbb647fd48>"
      ]
     },
     "execution_count": 21,
     "metadata": {},
     "output_type": "execute_result"
    },
    {
     "data": {
      "image/png": "[encoded data removed]",
      "text/plain": [
       "<Figure size 432x288 with 1 Axes>"
      ]
     },
     "metadata": {
      "needs_background": "light"
     },
     "output_type": "display_data"
    },
    {
     "data": {
      "image/png": "[encoded data removed]",
      "text/plain": [
       "<Figure size 432x432 with 3 Axes>"
      ]
     },
     "metadata": {
      "needs_background": "light"
     },
     "output_type": "display_data"
    }
   ],
   "source": [
    "\"\"\". Do you think the “gender” might moderate the relationship between “Diet” and\n",
    "weight loss. You could use graphical tools to explore this. \"\"\"\n",
    "\"\"\"In order to find relationship between the gender with weigh loss and Diet we plot scatter plot\"\"\"\n",
    "\n",
    "#sns.regplot(weightloss_diet['Age'],weightloss_diet['weight_loss'])\n",
    "plt.scatter(weightloss_diet['Diet'],weightloss_diet['weight_loss'])\n",
    "sns.jointplot(weightloss_diet['Diet'],weightloss_diet['weight_loss'], kind = 'kde')"
   ]
  },
  {
   "cell_type": "code",
   "execution_count": 22,
   "metadata": {},
   "outputs": [
    {
     "data": {
      "text/plain": [
       "<seaborn.axisgrid.JointGrid at 0x1dbb66e3b08>"
      ]
     },
     "execution_count": 22,
     "metadata": {},
     "output_type": "execute_result"
    },
    {
     "data": {
      "image/png": "[encoded data removed]",
      "text/plain": [
       "<Figure size 432x432 with 3 Axes>"
      ]
     },
     "metadata": {
      "needs_background": "light"
     },
     "output_type": "display_data"
    },
    {
     "data": {
      "image/png": "[encoded data removed]",
      "text/plain": [
       "<Figure size 432x432 with 3 Axes>"
      ]
     },
     "metadata": {
      "needs_background": "light"
     },
     "output_type": "display_data"
    }
   ],
   "source": [
    "\"\"\"From the scatter and jointplot we can see that Diet_losses the densest area for group 1 and group2 Diet is between\n",
    "2 to 5. For the group 3 diet the densest area is at 5 to 7.5\"\"\"\n",
    "\n",
    "\"\"\"In order to find if gender plays a role in moderating the two variables we sort the data set\"\"\"\n",
    "\"\"\"dividing the data group by gender\"\"\"\n",
    "Female = weightloss_diet[weightloss_diet['gender']=='0']\n",
    "Male = weightloss_diet[weightloss_diet['gender']=='1']\n",
    "sns.jointplot(Female['Diet'],Female['weight_loss'], kind = 'kde')\n",
    "sns.jointplot(Male['Diet'],Male['weight_loss'], kind = 'kde')"
   ]
  },
  {
   "cell_type": "code",
   "execution_count": null,
   "metadata": {},
   "outputs": [],
   "source": [
    "\"\"\"The top 1st plot is the joint plot for females and the second plot is for females\"\"\"\n",
    "\"\"\"From the plots we can see that the gender usualy dont moderate the relation between the diet and weight loss\n",
    "though there is slight difference in the relationship suggesting that that p value might be close to 0.05 but greater\"\"\""
   ]
  },
  {
   "cell_type": "code",
   "execution_count": 31,
   "metadata": {},
   "outputs": [
    {
     "name": "stdout",
     "output_type": "stream",
     "text": [
      "Ttest_indResult(statistic=0.40797824323257154, pvalue=0.6850668861405854)\n",
      "Ttest_indResult(statistic=-3.1693496673045676, pvalue=0.0025599026452984013)\n",
      "Ttest_indResult(statistic=-2.834783037306771, pvalue=0.006644381649741192)\n"
     ]
    }
   ],
   "source": [
    "\"\"\" dividing the diet group to A,B and C\"\"\"\n",
    "A = weightloss_diet[weightloss_diet['Diet']==1]\n",
    "B = weightloss_diet[weightloss_diet['Diet']==2]\n",
    "C = weightloss_diet[weightloss_diet['Diet']==3]\n",
    "\"\"\"t test to weighloss and diet levels\"\"\"\n",
    "print(ttest_ind(A['weight_loss'], B['weight_loss'], nan_policy='omit'))\n",
    "\n",
    "\"\"\"we get a p value of 0.68 which is greater then the significance value\n",
    "denoting that weight loss is not different among A and B level of diet\"\"\"\n",
    "\n",
    "print(ttest_ind(B['weight_loss'], C['weight_loss'], nan_policy='omit'))\n",
    "\n",
    "\"\"\"We can see a p-value of 0.0025 denoting the fact that there is weigh loss\n",
    "difference between weigh loss group B and C\"\"\"\n",
    "print(ttest_ind(A['weight_loss'], C['weight_loss'], nan_policy='omit'))\n",
    "\n",
    "\"\"\"We can see a p-value of 0.0066 denoting the fact that there is weight loss\n",
    "difference between weigh loss group A and C \"\"\"\n"
   ]
  },
  {
   "cell_type": "code",
   "execution_count": 35,
   "metadata": {},
   "outputs": [
    {
     "name": "stdout",
     "output_type": "stream",
     "text": [
      "               df     sum_sq   mean_sq         F    PR(>F)\n",
      "weight_loss   1.0   4.647263  4.647263  7.638673  0.007164\n",
      "Residual     76.0  46.237352  0.608386       NaN       NaN\n",
      "               df     sum_sq   mean_sq         F    PR(>F)\n",
      "gender        2.0   0.029083  0.014542  0.023401  0.976878\n",
      "weight_loss   1.0   4.870231  4.870231  7.837224  0.006524\n",
      "Residual     74.0  45.985301  0.621423       NaN       NaN\n"
     ]
    }
   ],
   "source": [
    "\"\"\"We perform anova test to check whether weight loss is different for different level of diet\"\"\"\n",
    "import statsmodels.api as sm\n",
    "from statsmodels.formula.api import ols\n",
    "mod = ols('Diet~weight_loss', data = weightloss_diet).fit()\n",
    "aov = sm.stats.anova_lm(mod, type=2)\n",
    "\"\"\"If we addgender as blocking factor \"\"\"\n",
    "mod1 = ols('Diet~weight_loss+gender', data = weightloss_diet).fit()\n",
    "aov1 = sm.stats.anova_lm(mod1, type=2)\n",
    "\n",
    "print(aov)\n",
    "print(aov1)"
   ]
  },
  {
   "cell_type": "code",
   "execution_count": null,
   "metadata": {},
   "outputs": [],
   "source": [
    "\"\"\"We can see from the p values that for the anova testing between weightloss and different levels of diet we see a p value\n",
    "of 0.007 which is closer and less then 0.005, so we can say there is no significant but a slight correlation between weight\n",
    "loss with the \"\"\"\n",
    "\n",
    "\"\"\"But if we add the gender as a blocking factor we can see that the p value is 0.97 which is much greater then the\n",
    "significant value 0.05 hence denoting the fact that gender does not moderate any relation between the weight and\n",
    "diet variables\"\"\""
   ]
  },
  {
   "cell_type": "code",
   "execution_count": 37,
   "metadata": {},
   "outputs": [
    {
     "name": "stdout",
     "output_type": "stream",
     "text": [
      "            df     sum_sq   mean_sq         F    PR(>F)\n",
      "gender     2.0   0.029083  0.014542  0.021446  0.978789\n",
      "Residual  75.0  50.855532  0.678074       NaN       NaN\n"
     ]
    }
   ],
   "source": [
    "mod2 = ols('Diet~gender', data = weightloss_diet).fit()\n",
    "aov2 = sm.stats.anova_lm(mod2, type=2)\n",
    "print(aov2)"
   ]
  },
  {
   "cell_type": "code",
   "execution_count": null,
   "metadata": {},
   "outputs": [],
   "source": [
    "\"\"\"The p-value for the ANOVA for the gender and diet is 0.97 which is greater then the significant value 0.05. Hence, \n",
    "denoting that gender doesnot have any interaction with the Diet which we can also see from the visual representation from\n",
    "problem2\"\"\" "
   ]
  }
 ],
 "metadata": {
  "kernelspec": {
   "display_name": "Python 3",
   "language": "python",
   "name": "python3"
  },
  "language_info": {
   "codemirror_mode": {
    "name": "ipython",
    "version": 3
   },
   "file_extension": ".py",
   "mimetype": "text/x-python",
   "name": "python",
   "nbconvert_exporter": "python",
   "pygments_lexer": "ipython3",
   "version": "3.7.4"
  }
 },
 "nbformat": 4,
 "nbformat_minor": 2
}
